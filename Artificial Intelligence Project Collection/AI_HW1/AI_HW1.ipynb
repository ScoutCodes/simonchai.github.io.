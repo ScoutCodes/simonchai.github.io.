{
  "cells": [
    {
      "cell_type": "code",
      "execution_count": 158,
      "metadata": {
        "id": "Gpj_Se1GCftb"
      },
      "outputs": [],
      "source": [
        "import numpy as np\n",
        "import random"
      ]
    },
    {
      "cell_type": "code",
      "execution_count": 159,
      "metadata": {
        "id": "WT8dWIJtC2Sm"
      },
      "outputs": [],
      "source": [
        "class Geometry:\n",
        "    count = 0\n",
        "    def __init__(self, name = \"Shape\", points = None):\n",
        "        self.name = name\n",
        "        # name is string that is a name of gemoetry\n",
        "        self.points = points\n",
        "        # points is a list of tuple points = [(x0, y0), (x1, y1), ...]\n",
        "        Geometry.count += 1\n",
        "\n",
        "    def calculate_area(self):\n",
        "        pass\n",
        "\n",
        "    def get_name(self):\n",
        "        return self.name\n",
        "\n",
        "    @classmethod\n",
        "    def count_number_of_geometry(cls):\n",
        "        # TODO: Your task is to implement the class method\n",
        "        # to get the number of instance that have already created\n",
        "        return Geometry.count\n"
      ]
    },
    {
      "cell_type": "code",
      "execution_count": 160,
      "metadata": {
        "id": "Q09m5wz-DYHZ"
      },
      "outputs": [],
      "source": [
        "class Triangle(Geometry):\n",
        "    def __init__(self, a, b, c):\n",
        "        # a, b, c are tuples that represent for 3 vertices of a triangle\n",
        "        # TODO: Your task is to implement the constructor\n",
        "        super(Triangle, self).__init__(\"Triangle\", [a,b,c])\n",
        "\n",
        "\n",
        "    def calculate_area(self):\n",
        "        #TODO: Your task is required to implement a area function\n",
        "        x1, y1 = self.points[0]\n",
        "        x2, y2 = self.points[1]\n",
        "        x3, y3 = self.points[2]\n",
        "        return abs((x1*(y2 - y3) + x2*(y3 - y1) + x3*(y1 - y2)) / 2.0)"
      ]
    },
    {
      "cell_type": "code",
      "execution_count": 161,
      "metadata": {
        "id": "wEV1gnhlFOvF"
      },
      "outputs": [],
      "source": [
        "class Rectangle(Geometry):\n",
        "    def __init__(self, a, b):\n",
        "        # a, b are tuples that represent for top and bottom vertices of a rectangle\n",
        "        # TODO: Your task is to implement the constructor\n",
        "        super(Rectangle, self).__init__(\"Rectangle\", [a, b])\n",
        "\n",
        "    def calculate_area(self):\n",
        "        #TODO: Your task is required to implement a area function\n",
        "        x1, y1 = self.points[0]\n",
        "        x2, y2 = self.points[1]\n",
        "        return abs((x2 - x1) * (y2 - y1))\n"
      ]
    },
    {
      "cell_type": "code",
      "execution_count": 162,
      "metadata": {
        "id": "2yQg5326F-G5"
      },
      "outputs": [],
      "source": [
        "class Square(Rectangle):\n",
        "    def __init__(self, a, length):\n",
        "        # a is a tuple that represent a top vertex of a square\n",
        "        # length is the side length of a square\n",
        "        # TODO: Your task is to implement the constructor\n",
        "        b = (a[0] + length, a[1] - length)\n",
        "        super(Square, self).__init__(a, b)\n",
        "        self.length = length\n",
        "        self.name = \"Square\"\n",
        "\n",
        "    def calculate_area(self):\n",
        "        #TODO: Your task is required to implement a area function\n",
        "        return self.length ** 2"
      ]
    },
    {
      "cell_type": "code",
      "execution_count": 163,
      "metadata": {
        "id": "cCkApEGPKgwx"
      },
      "outputs": [],
      "source": [
        "class Circle(Geometry):\n",
        "    def __init__(self, o, r):\n",
        "        # o is a tuple that represent a centre of a circle\n",
        "        # r is the radius of a circle\n",
        "        # TODO: Your task is to implement the constructor\n",
        "        super(Circle, self).__init__(\"Circle\", [o])\n",
        "        self.r = r\n",
        "\n",
        "    def calculate_area(self):\n",
        "        #TODO: Your task is required to implement a area function\n",
        "        return np.pi * (self.r ** 2)"
      ]
    },
    {
      "cell_type": "code",
      "execution_count": 164,
      "metadata": {
        "id": "cBOIV5ZgK9Wo"
      },
      "outputs": [],
      "source": [
        "class Polygon(Geometry):\n",
        "    def __init__(self, points):\n",
        "        # points is a list of tuples that represent vertices of a polygon\n",
        "        # TODO: Your task is to implement the constructor\n",
        "        super(Polygon, self).__init__(\"Polygon\", points)\n",
        "\n",
        "    def calculate_area(self):\n",
        "        #TODO: Your task is required to implement a area function\n",
        "        n = len(self.points)\n",
        "        area = 0\n",
        "        for i in range(n):\n",
        "          x1, y1 = self.points[i]\n",
        "          x2, y2 = self.points[(i + 1) % n]\n",
        "          area += (x1 * y2 - x2 * y1)\n",
        "        return abs(area) / 2"
      ]
    },
    {
      "cell_type": "code",
      "execution_count": 165,
      "metadata": {
        "id": "87ZhhbY0GtYv"
      },
      "outputs": [],
      "source": [
        "def test_geomery():\n",
        "    ## Test cases for Problem 1\n",
        "\n",
        "    triangle = Triangle((0, 1), (1, 0), (0, 0))\n",
        "    print(\"Area of %s: %0.4f\" % (triangle.name, triangle.calculate_area()))\n",
        "\n",
        "    rectangle = Rectangle((0, 0), (2, 2))\n",
        "    print(\"Area of %s: %0.4f\" % (rectangle.name, rectangle.calculate_area()))\n",
        "\n",
        "    square = Square((0, 0), 2)\n",
        "    print(\"Area of %s: %0.4f\" % (square.name, square.calculate_area()))\n",
        "\n",
        "    circle = Circle((0, 0), 3)\n",
        "    print(\"Area of %s: %0.4f\" % (circle.name, circle.calculate_area()))\n",
        "\n",
        "    polygon = Polygon([(0, 0), (0, 1), (1, 1), (1, 0)])\n",
        "    print(\"Area of %s: %0.4f\" % (polygon.name, polygon.calculate_area()))"
      ]
    },
    {
      "cell_type": "code",
      "execution_count": 166,
      "metadata": {
        "colab": {
          "base_uri": "https://localhost:8080/"
        },
        "id": "JIPd7NpFG1TM",
        "outputId": "b32a2c7f-eee4-4903-a66a-4a5cf979bfda"
      },
      "outputs": [
        {
          "name": "stdout",
          "output_type": "stream",
          "text": [
            "Area of Triangle: 0.5000\n",
            "Area of Rectangle: 4.0000\n",
            "Area of Square: 4.0000\n",
            "Area of Circle: 28.2743\n",
            "Area of Polygon: 1.0000\n"
          ]
        }
      ],
      "source": [
        "test_geomery()"
      ]
    },
    {
      "cell_type": "code",
      "execution_count": 167,
      "metadata": {
        "colab": {
          "base_uri": "https://localhost:8080/"
        },
        "id": "vK3vKxbdjIwW",
        "outputId": "bffed080-9e63-4f8f-e256-94e326a5fb49"
      },
      "outputs": [
        {
          "name": "stdout",
          "output_type": "stream",
          "text": [
            "Your implementation is correct!\n"
          ]
        }
      ],
      "source": [
        "def matrix_multiplication(A, B):\n",
        "    # TODO: Your task is to required to implement\n",
        "    # a matrix multiplication between A and B\n",
        "    m, k = A.shape\n",
        "    _, n = B.shape\n",
        "    C = np.zeros((m, n))\n",
        "    for i in range(m):\n",
        "      for j in range(n):\n",
        "        for t in range(k):\n",
        "          C[i][j] += A[i, t] * B[t, j]\n",
        "    return C\n",
        "A = np.random.randn(4, 5)\n",
        "B = np.random.randn(5, 6)\n",
        "assert np.mean(np.abs(A.dot(B) - matrix_multiplication(A, B))) <= 1e-7, \"Your implmentation is wrong!\"\n",
        "\n",
        "print(\"Your implementation is correct!\")"
      ]
    },
    {
      "cell_type": "code",
      "execution_count": 168,
      "metadata": {
        "id": "pmoVdRX0o5LG"
      },
      "outputs": [],
      "source": [
        "def test_matrix_mul():\n",
        "    ## Test cases for matrix multplication ##\n",
        "\n",
        "    for test in range(10):\n",
        "        m, n, k = random.randint(3, 10), random.randint(3, 10), random.randint(3, 10)\n",
        "        A = np.random.randn(m, n)\n",
        "        B = np.random.randn(n, k)\n",
        "        assert np.mean(np.abs(A.dot(B) - matrix_multiplication(A, B))) <= 1e-7, \"Your implmentation is wrong!\"\n",
        "        print(\"[Test Case %d]. Your implementation is correct!\" % test)"
      ]
    },
    {
      "cell_type": "code",
      "execution_count": 169,
      "metadata": {
        "colab": {
          "base_uri": "https://localhost:8080/"
        },
        "id": "NOwXQShdo6ik",
        "outputId": "6d71367b-2f37-4dda-bbe2-b9ef4dd33b9f"
      },
      "outputs": [
        {
          "name": "stdout",
          "output_type": "stream",
          "text": [
            "[Test Case 0]. Your implementation is correct!\n",
            "[Test Case 1]. Your implementation is correct!\n",
            "[Test Case 2]. Your implementation is correct!\n",
            "[Test Case 3]. Your implementation is correct!\n",
            "[Test Case 4]. Your implementation is correct!\n",
            "[Test Case 5]. Your implementation is correct!\n",
            "[Test Case 6]. Your implementation is correct!\n",
            "[Test Case 7]. Your implementation is correct!\n",
            "[Test Case 8]. Your implementation is correct!\n",
            "[Test Case 9]. Your implementation is correct!\n"
          ]
        }
      ],
      "source": [
        "test_matrix_mul()"
      ]
    },
    {
      "cell_type": "code",
      "execution_count": 170,
      "metadata": {
        "id": "YcTV4yPulrLt"
      },
      "outputs": [],
      "source": [
        "def recursive_pow(A, n):\n",
        "    # TODO: Your task is required implementing\n",
        "    # a recursive function\n",
        "    if n == 0:\n",
        "      return np.eye(A.shape[0])\n",
        "    else:\n",
        "      B = recursive_pow(A, n // 2)\n",
        "      B = B @ B\n",
        "      if n % 2 == 0:\n",
        "        return B\n",
        "      else:\n",
        "        return B @ A"
      ]
    },
    {
      "cell_type": "code",
      "execution_count": 171,
      "metadata": {
        "id": "bu9SuhvWmRFo"
      },
      "outputs": [],
      "source": [
        "def iterative_pow(A, n):\n",
        "\t  # TODO: Your task is required implementing\n",
        "    # a iterative function\n",
        "    result = np.eye(A.shape[0])\n",
        "    while n > 0:\n",
        "      if n % 2 == 1:\n",
        "        result = result @ A\n",
        "      A = A @ A\n",
        "      n = n // 2\n",
        "    return result"
      ]
    },
    {
      "cell_type": "code",
      "execution_count": 172,
      "metadata": {
        "id": "cOGEgr4Wofvk"
      },
      "outputs": [],
      "source": [
        "def test_pow():\n",
        "    ## Test cases for the pow function ##\n",
        "\n",
        "    for test in range(10):\n",
        "        n = random.randint(2, 5)\n",
        "        A = np.random.randn(n, n)\n",
        "        print(\"Recursive: A^{} = {}\".format(n, recursive_pow(A, n)))\n",
        "\n",
        "    for test in range(10):\n",
        "        n = random.randint(2, 5)\n",
        "        A = np.random.randn(n, n)\n",
        "        print(\"Iterative: A^{} = {}\".format(n, iterative_pow(A, n)))"
      ]
    },
    {
      "cell_type": "code",
      "execution_count": 173,
      "metadata": {
        "colab": {
          "base_uri": "https://localhost:8080/"
        },
        "id": "RHc2y6KsorLv",
        "outputId": "d0daaf99-e299-4844-b81a-cbc0157daf49"
      },
      "outputs": [
        {
          "name": "stdout",
          "output_type": "stream",
          "text": [
            "Recursive: A^3 = [[-1.17729826  1.56280582  2.62707024]\n",
            " [ 8.27898689 -8.01635022 -1.55958823]\n",
            " [ 0.35603233  0.28781726  3.51788507]]\n",
            "Recursive: A^3 = [[ 1.37504802 -1.35401839  2.8672233 ]\n",
            " [-7.34075271  5.54406431 -7.77636587]\n",
            " [ 5.40311869 -4.14446685  5.97321963]]\n",
            "Recursive: A^5 = [[  4.35881097   4.49533999  -2.22606652  -6.88203682  -4.01251593]\n",
            " [ -6.84012372  43.41743045  -5.14045791 -27.12610589  -1.34282768]\n",
            " [  2.96918979  19.44214891  -3.82020814 -13.75055803  -1.78737707]\n",
            " [  5.57685091  -8.41406794   0.08160689   2.8973547   -1.11876453]\n",
            " [ -1.48991607   9.65246706  -1.04864201  -2.33872971   2.59316961]]\n",
            "Recursive: A^4 = [[-0.83451844 -2.17928416  1.61478835 10.66739896]\n",
            " [-0.21842687  6.26804197  2.47097369  9.42408297]\n",
            " [ 4.07616528  3.43708141  4.91338575  2.69414538]\n",
            " [-3.45203113 -7.91596689 -4.15552713 -1.58693615]]\n",
            "Recursive: A^2 = [[ 4.75719668 -2.72251146]\n",
            " [ 1.06050737 -0.40721928]]\n",
            "Recursive: A^3 = [[-1.53029063 -0.48015789 -3.33582203]\n",
            " [-0.25919244 -0.39065227 -0.09026439]\n",
            " [ 0.73686678  0.45174162 -0.31159217]]\n",
            "Recursive: A^5 = [[-865.39405732  488.9624475   231.64921849  -36.56528359  -27.81198383]\n",
            " [ 178.39151811 -103.0117843   -47.3765907     5.89915212    8.48100448]\n",
            " [ 196.25737197 -110.98540701  -48.72197772    8.4841484     5.01810657]\n",
            " [-367.32168396  206.98548742   94.23854058  -19.56039891  -21.27314875]\n",
            " [ 125.86762327  -66.98211689  -41.57030349    9.49765489    7.27432969]]\n",
            "Recursive: A^3 = [[ 2.30044376  0.75511523  0.80170998]\n",
            " [-0.06546055 -4.5216886  -1.38353652]\n",
            " [-1.55371969 -0.53934784 -0.51430949]]\n",
            "Recursive: A^2 = [[ 0.05866506  0.06556798]\n",
            " [-0.04069347 -0.04546521]]\n",
            "Recursive: A^5 = [[-0.31691677 -1.52989625  0.15254164  1.26731331  3.68274098]\n",
            " [ 3.21143784  1.95703532 -4.52520192  6.77525731  3.39013973]\n",
            " [-7.95062453  5.10384368 -1.93275384 -0.30830723  0.77090194]\n",
            " [10.23675218 -9.16770224  3.34535543  1.37763842  3.43080006]\n",
            " [-2.30190209 -7.87067069  1.87341102 -5.28079681 -7.55996396]]\n",
            "Iterative: A^5 = [[-10.52123245 -25.81877924 -48.16223853 -86.74679386  18.83391474]\n",
            " [  0.15173054   7.95436316  11.60399093  27.10675548  -3.83862509]\n",
            " [ 10.95172648 -10.93087319  -5.26953148 -39.9712106   -3.29606279]\n",
            " [  8.47249644 -21.1805192  -22.54181563 -74.58967603   3.11586707]\n",
            " [ -1.57437565  20.92649932  29.16962285  72.46479054  -7.85023325]]\n",
            "Iterative: A^5 = [[  7.53127292 -20.20431993 -35.48895643  19.45189711  -0.84850566]\n",
            " [ 38.48400204 -54.06369842  39.11374701  -9.1654829  -12.80284628]\n",
            " [ 41.70546325 -26.68572527 -18.39757565  38.89923683  28.44847357]\n",
            " [ -4.56250475   2.50594051 -36.30953011  18.0120764    5.07813859]\n",
            " [-30.97320315   3.24578058 -18.37948643 -16.4193416  -28.30139324]]\n",
            "Iterative: A^4 = [[19.8067757   2.77707826 13.08630505 -6.77509747]\n",
            " [15.0760674   1.41590662 11.38944297 -6.53037923]\n",
            " [10.47971609 -2.26452966  7.11429201 12.95797717]\n",
            " [10.98989731  0.69147072  6.84897946  1.46354258]]\n",
            "Iterative: A^3 = [[-1.59426167  0.87064882 -0.54948234]\n",
            " [-0.64748218 -2.10440027 -0.49503366]\n",
            " [ 0.14034991  0.44362943 -1.9353784 ]]\n",
            "Iterative: A^4 = [[ 0.70959981  2.56586673  0.8337171   1.17499527]\n",
            " [-0.22962943  1.38563714 -3.21531955 -4.9471406 ]\n",
            " [-0.52526832  0.69032228 -0.67409913  0.0715275 ]\n",
            " [ 1.6547673   2.64546767 -0.35739997 -1.03796844]]\n",
            "Iterative: A^2 = [[ 7.74109715 -2.8936672 ]\n",
            " [-2.97084477  6.07101179]]\n",
            "Iterative: A^4 = [[ -6.56878425  -8.6371544  -31.71651831  34.11595775]\n",
            " [  4.35299231  26.1127456    8.90794985  -4.57055385]\n",
            " [  5.81281012  15.21912921  18.26725155 -14.75613099]\n",
            " [ -0.09036148  15.50237525 -13.26970661  20.14705403]]\n",
            "Iterative: A^2 = [[ 5.26932433  5.31985842]\n",
            " [-2.66974427 -2.24413044]]\n",
            "Iterative: A^3 = [[0.26457263 0.96041492 1.87233309]\n",
            " [0.27584739 2.42102367 3.45263417]\n",
            " [0.15513428 1.26038764 1.53081969]]\n",
            "Iterative: A^4 = [[ 0.05585153  1.79735553  0.48736244 -3.85750989]\n",
            " [ 1.78308467  0.56839916  0.42911403 -2.2391367 ]\n",
            " [ 2.20204198 -0.00846131  0.15761469 -1.94762575]\n",
            " [-0.58748026 -1.5140865  -1.04799212  1.67792452]]\n"
          ]
        }
      ],
      "source": [
        "test_pow()"
      ]
    },
    {
      "cell_type": "code",
      "execution_count": 174,
      "metadata": {
        "id": "KuevwV5PomZZ"
      },
      "outputs": [],
      "source": [
        "def get_A():\n",
        "    # TODO: Find a matrix A\n",
        "    # You have to return in the format of numpy array\n",
        "    return np.array([[1, 1], [1, 0]])\n",
        "\n",
        "def fibo(n):\n",
        "    # TODO: Calcualte the n'th Fibonacci number\n",
        "    if n == 0:\n",
        "        return 1\n",
        "    A = get_A()\n",
        "    result = recursive_pow(A, n - 1)\n",
        "    return result[0, 0] + result[0, 1]"
      ]
    },
    {
      "cell_type": "code",
      "execution_count": 175,
      "metadata": {
        "id": "xfkMwoH9rmKU"
      },
      "outputs": [],
      "source": [
        "def f(n, k):\n",
        "    # TODO: Calcualte the n'th number of the recursive sequence\n",
        "    if n < k:\n",
        "        return 1\n",
        "    A = np.zeros((k, k))\n",
        "    for i in range(k - 1):\n",
        "        A[i, i + 1] = 1\n",
        "    A[k - 1] = np.ones(k)\n",
        "    An = recursive_pow(A, n - k + 1)\n",
        "    F = np.ones((k, 1))\n",
        "    return int(np.matmul(An, F)[-1, 0])"
      ]
    },
    {
      "cell_type": "code",
      "execution_count": 176,
      "metadata": {
        "id": "q4SU6WGsKXMu"
      },
      "outputs": [],
      "source": [
        "def test_fibonacci():\n",
        "    ## Test Cases for Fibonacci and Recursive Sequence ##\n",
        "    a, b = 1, 1\n",
        "    for i in range(2, 10):\n",
        "        c = a + b\n",
        "        assert (fibo(i) == c), \"You implementation is incorrect\"\n",
        "        print(\"[Test Case %d]. Your implementation is correct!. fibo(%d) = %d\" % (i - 2, i, fibo(i)))\n",
        "        a = b\n",
        "        b = c\n",
        "\n",
        "    for n in range(5, 11):\n",
        "        for k in range(2, 5):\n",
        "            print(\"f(%d, %d) = %d\" % (n, k, f(n, k)))"
      ]
    },
    {
      "cell_type": "code",
      "execution_count": 177,
      "metadata": {
        "colab": {
          "base_uri": "https://localhost:8080/"
        },
        "id": "CTSr1TlhK3ez",
        "outputId": "ec672df5-ed96-4981-e672-27b993e6340b"
      },
      "outputs": [
        {
          "name": "stdout",
          "output_type": "stream",
          "text": [
            "[Test Case 0]. Your implementation is correct!. fibo(2) = 2\n",
            "[Test Case 1]. Your implementation is correct!. fibo(3) = 3\n",
            "[Test Case 2]. Your implementation is correct!. fibo(4) = 5\n",
            "[Test Case 3]. Your implementation is correct!. fibo(5) = 8\n",
            "[Test Case 4]. Your implementation is correct!. fibo(6) = 13\n",
            "[Test Case 5]. Your implementation is correct!. fibo(7) = 21\n",
            "[Test Case 6]. Your implementation is correct!. fibo(8) = 34\n",
            "[Test Case 7]. Your implementation is correct!. fibo(9) = 55\n",
            "f(5, 2) = 8\n",
            "f(5, 3) = 9\n",
            "f(5, 4) = 7\n",
            "f(6, 2) = 13\n",
            "f(6, 3) = 17\n",
            "f(6, 4) = 13\n",
            "f(7, 2) = 21\n",
            "f(7, 3) = 31\n",
            "f(7, 4) = 25\n",
            "f(8, 2) = 34\n",
            "f(8, 3) = 57\n",
            "f(8, 4) = 49\n",
            "f(9, 2) = 55\n",
            "f(9, 3) = 105\n",
            "f(9, 4) = 94\n",
            "f(10, 2) = 89\n",
            "f(10, 3) = 193\n",
            "f(10, 4) = 181\n"
          ]
        }
      ],
      "source": [
        "test_fibonacci()"
      ]
    },
    {
      "cell_type": "code",
      "execution_count": null,
      "metadata": {
        "id": "GijRFnuJwKL3"
      },
      "outputs": [],
      "source": [
        "from collections import deque\n",
        "import heapq"
      ]
    },
    {
      "cell_type": "code",
      "execution_count": null,
      "metadata": {
        "id": "veStGcnGwLnp"
      },
      "outputs": [],
      "source": [
        "def DFS(A):\n",
        "    # A is a mxn matrix\n",
        "    if not A.any() or A[0][0] == 0 or A[-1][-1] == 0:\n",
        "        print(-1)\n",
        "        return\n",
        "    m, n = A.shape\n",
        "    directions = [(0,1), (1,0), (0,-1), (-1,0)]\n",
        "    path = []\n",
        "    visited = set()\n",
        "    def dfs(x, y):\n",
        "        if (x, y) == (m-1, n-1):\n",
        "            path.append((x, y))\n",
        "            return True\n",
        "        visited.add((x, y))\n",
        "        path.append((x, y))\n",
        "        for dx, dy in directions:\n",
        "            nx, ny = x + dx, y + dy\n",
        "            if 0 <= nx < m and 0 <= ny < n and A[nx][ny] == 1 and (nx, ny) not in visited:\n",
        "                if dfs(nx, ny):\n",
        "                    return True\n",
        "        path.pop()\n",
        "        return False\n",
        "    if dfs(0, 0):\n",
        "        print(\" → \".join(map(str, path)))\n",
        "    else:\n",
        "        print(-1)"
      ]
    },
    {
      "cell_type": "code",
      "execution_count": null,
      "metadata": {
        "id": "D1ZAHcA-wVmq"
      },
      "outputs": [],
      "source": [
        "def BFS(A):\n",
        "    # A is a mxn matrix\n",
        "    if not A.any() or A[0][0] == 0 or A[-1][-1] == 0:\n",
        "        print(-1)\n",
        "        return\n",
        "    m, n = A.shape\n",
        "    directions = [(0,1), (1,0), (0,-1), (-1,0)]\n",
        "    queue = deque([(0, 0, [(0, 0)])])\n",
        "    visited = set([(0, 0)])\n",
        "    while queue:\n",
        "        x, y, path = queue.popleft()\n",
        "        if (x, y) == (m-1, n-1):\n",
        "            print(\" → \".join(map(str, path)))\n",
        "            return\n",
        "        for dx, dy in directions:\n",
        "            nx, ny = x + dx, y + dy\n",
        "            if 0 <= nx < m and 0 <= ny < n and A[nx][ny] == 1 and (nx, ny) not in visited:\n",
        "                visited.add((nx, ny))\n",
        "                queue.append((nx, ny, path + [(nx, ny)]))\n",
        "    print(-1)"
      ]
    },
    {
      "cell_type": "code",
      "execution_count": 179,
      "metadata": {
        "id": "4tTvDPOTVewI"
      },
      "outputs": [],
      "source": [
        "def findMinimum(A):\n",
        "    # A is a mxn matrix\n",
        "    if not A.any() or A[0][0] == 0 or A[-1][-1] == 0:\n",
        "        print(-1)\n",
        "        return\n",
        "    m, n = A.shape\n",
        "    directions = [(0,1), (1,0), (0,-1), (-1,0)]\n",
        "    min_heap = [(A[0][0], 0, 0, [(0, 0)])]  # (cost, x, y, path)\n",
        "    visited = set()\n",
        "    while min_heap:\n",
        "        cost, x, y, path = heapq.heappop(min_heap)\n",
        "        if (x, y) == (m-1, n-1):\n",
        "            print(\" → \".join(map(str, path)))\n",
        "            print(\"Total value:\", cost)\n",
        "            return\n",
        "        if (x, y) in visited:\n",
        "            continue\n",
        "        visited.add((x, y))\n",
        "        for dx, dy in directions:\n",
        "            nx, ny = x + dx, y + dy\n",
        "            if 0 <= nx < m and 0 <= ny < n and A[nx][ny] > 0 and (nx, ny) not in visited:\n",
        "                heapq.heappush(min_heap, (cost + A[nx][ny], nx, ny, path + [(nx, ny)]))\n",
        "    print(-1)"
      ]
    },
    {
      "cell_type": "code",
      "execution_count": 180,
      "metadata": {
        "colab": {
          "base_uri": "https://localhost:8080/"
        },
        "id": "faqmKt7uVgKD",
        "outputId": "067a2295-12a9-4804-d209-106941e5508b"
      },
      "outputs": [
        {
          "name": "stdout",
          "output_type": "stream",
          "text": [
            "BFS Output:\n",
            "(0, 0) → (0, 1) → (0, 2) → (1, 2) → (2, 2) → (2, 3) → (2, 4) → (3, 4) → (4, 4)\n",
            "\n",
            "DFS Output:\n",
            "(0, 0) → (0, 1) → (0, 2) → (1, 2) → (2, 2) → (2, 3) → (2, 4) → (3, 4) → (4, 4)\n",
            "\n",
            "Find Minimum Output:\n",
            "(0, 0) → (0, 1) → (0, 2) → (1, 2) → (2, 2) → (2, 3) → (2, 4) → (3, 4) → (4, 4)\n",
            "Total value: 10\n"
          ]
        }
      ],
      "source": [
        "def test_bfs_dfs_find_minimum():\n",
        "    ## Test Cases for BFS, DFS, Find Minimum ##\n",
        "    A = np.array([[1, 1, 1, 0, 1],\n",
        "                  [0, 0, 1, 0, 0],\n",
        "                  [1, 1, 1, 1, 1],\n",
        "                  [1, 1, 0, 1, 1],\n",
        "                  [1, 1, 0, 1, 1]])\n",
        "\n",
        "    print(\"BFS Output:\")\n",
        "    BFS(A)\n",
        "\n",
        "    print(\"\\nDFS Output:\")\n",
        "    DFS(A)\n",
        "\n",
        "    A = np.array([[1, 1, 1, 0, 1],\n",
        "                  [0, 0, 1, 0, 0],\n",
        "                  [1, 1, 1, 1, 2],\n",
        "                  [1, 1, 0, 2, 1],\n",
        "                  [1, 1, 0, 2, 1]])\n",
        "\n",
        "    print(\"\\nFind Minimum Output:\")\n",
        "    findMinimum(A)\n",
        "\n",
        "test_bfs_dfs_find_minimum()"
      ]
    }
  ],
  "metadata": {
    "colab": {
      "provenance": []
    },
    "kernelspec": {
      "display_name": "Python 3",
      "name": "python3"
    },
    "language_info": {
      "name": "python"
    }
  },
  "nbformat": 4,
  "nbformat_minor": 0
}
